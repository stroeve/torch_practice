{
 "cells": [
  {
   "cell_type": "code",
   "execution_count": 64,
   "metadata": {
    "ExecuteTime": {
     "end_time": "2021-03-27T06:47:06.450476Z",
     "start_time": "2021-03-27T06:47:06.447597Z"
    }
   },
   "outputs": [],
   "source": [
    "import numpy\n",
    "import torch\n",
    "import torch.nn as nn\n",
    "import torch.optim as optim"
   ]
  },
  {
   "cell_type": "code",
   "execution_count": 65,
   "metadata": {
    "ExecuteTime": {
     "end_time": "2021-03-27T06:47:07.143611Z",
     "start_time": "2021-03-27T06:47:07.136272Z"
    }
   },
   "outputs": [],
   "source": [
    "def make_batch():\n",
    "    input_batch = []\n",
    "    target_batch = []\n",
    "    \n",
    "    words = sentence.split()\n",
    "    for i, word in enumerate(words[:-1]):  \n",
    "        input_ = [word2idx[word] for word in words[:(i+1)]]\n",
    "        input_ = input_ + [0]*(max_len - len(input_))\n",
    "        target_ = word2idx[words[i+1]]\n",
    "        # 利用numpy.eye(num_class)[list]生成one-hot编码\n",
    "        input_batch.append(numpy.eye(n_class)[input_])\n",
    "        target_batch.append(target_)\n",
    "    return input_batch,target_batch\n",
    "        "
   ]
  },
  {
   "cell_type": "code",
   "execution_count": 88,
   "metadata": {
    "ExecuteTime": {
     "end_time": "2021-03-27T06:55:28.754569Z",
     "start_time": "2021-03-27T06:55:28.748042Z"
    }
   },
   "outputs": [],
   "source": [
    "class BiLSTM(nn.Module):\n",
    "    def __init__(self):\n",
    "        super(BiLSTM, self).__init__()\n",
    "        self.lstm = nn.LSTM(input_size=n_class,hidden_size=n_hidden, bidirectional=True)\n",
    "        self.W = nn.Linear(2*n_hidden, n_class, bias=False)\n",
    "        self.b = nn.Parameter(torch.ones(n_class))\n",
    "    \n",
    "    def forward(self, X): #X:[batch_size, seq_len, input_size]\n",
    "        X = X.transpose(0,1)\n",
    "        \n",
    "        h_0 = torch.zeros(2, X.size(1), n_hidden)\n",
    "        c_0 = torch.zeros(2, X.size(1), n_hidden)\n",
    "        output, _ = self.lstm(X, (h_0, c_0))\n",
    "        # 取索引时，-1:  和-1是不同的，-1降维，-1:不降\n",
    "        output = output[-1]\n",
    "        out = self.W(output) + self.b  #[batch_size, hidden_size]\n",
    "        return out\n",
    "    "
   ]
  },
  {
   "cell_type": "code",
   "execution_count": 89,
   "metadata": {
    "ExecuteTime": {
     "end_time": "2021-03-27T06:55:35.307918Z",
     "start_time": "2021-03-27T06:55:30.613071Z"
    }
   },
   "outputs": [
    {
     "name": "stdout",
     "output_type": "stream",
     "text": [
      "Epoch 0100 cost= 1.269796 \n",
      "Epoch 0200 cost= 0.791136 \n",
      "Epoch 0300 cost= 0.443788 \n",
      "Epoch 0400 cost= 0.301994 \n",
      "Epoch 0500 cost= 0.217400 \n",
      "Epoch 0600 cost= 0.124835 \n",
      "Epoch 0700 cost= 0.080704 \n",
      "Epoch 0800 cost= 0.057519 \n",
      "Epoch 0900 cost= 0.043598 \n",
      "Epoch 1000 cost= 0.034385 \n"
     ]
    }
   ],
   "source": [
    "if __name__=='__main__':\n",
    "    sentence = (\n",
    "            'hello everyone, my name is jia chang min, nice to meet you'\n",
    "        )\n",
    "    word2idx = {word:i for i,word in enumerate(list(set(sentence.split())))}\n",
    "    idx2word = {i:word for i,word in enumerate(list(set(sentence.split())))}\n",
    "    max_len = len(sentence.split())\n",
    "    n_class = len(word2idx)\n",
    "    input_batch, target_batch = make_batch()\n",
    "    \n",
    "    n_hidden = 5\n",
    "    model = BiLSTM()\n",
    "    criterion = nn.CrossEntropyLoss()\n",
    "    optimizer = optim.Adam(model.parameters(), lr=0.01)\n",
    "    \n",
    "    input_batch = torch.FloatTensor(input_batch)\n",
    "    target_batch = torch.LongTensor(target_batch)\n",
    "    for epoch in range(1000):\n",
    "        optimizer.zero_grad()\n",
    "        out = model(input_batch)\n",
    "        loss = criterion(out, target_batch)\n",
    "        if (epoch + 1)%100==0:\n",
    "            print(f\"Epoch {epoch+1:04d} cost= {loss:.6f} \")\n",
    "            \n",
    "        loss.backward()\n",
    "        optimizer.step()\n",
    "    "
   ]
  },
  {
   "cell_type": "code",
   "execution_count": 91,
   "metadata": {
    "ExecuteTime": {
     "end_time": "2021-03-27T06:58:12.669033Z",
     "start_time": "2021-03-27T06:58:12.664551Z"
    }
   },
   "outputs": [
    {
     "data": {
      "text/plain": [
       "'hello everyone, my name is jia chang min, nice to meet you'"
      ]
     },
     "execution_count": 91,
     "metadata": {},
     "output_type": "execute_result"
    }
   ],
   "source": [
    "sentence"
   ]
  },
  {
   "cell_type": "code",
   "execution_count": 127,
   "metadata": {
    "ExecuteTime": {
     "end_time": "2021-03-27T07:14:43.162665Z",
     "start_time": "2021-03-27T07:14:43.155691Z"
    }
   },
   "outputs": [
    {
     "data": {
      "text/plain": [
       "['everyone,',\n",
       " 'my',\n",
       " 'name',\n",
       " 'is',\n",
       " 'jia',\n",
       " 'chang',\n",
       " 'min,',\n",
       " 'nice',\n",
       " 'to',\n",
       " 'meet',\n",
       " 'you']"
      ]
     },
     "execution_count": 127,
     "metadata": {},
     "output_type": "execute_result"
    }
   ],
   "source": [
    "predict = model(input_batch).detach().max(dim=1, keepdim=True)[1]\n",
    "[idx2word[idx.item()] for idx in predict]"
   ]
  },
  {
   "cell_type": "markdown",
   "metadata": {},
   "source": [
    "## argmax"
   ]
  },
  {
   "cell_type": "code",
   "execution_count": 119,
   "metadata": {
    "ExecuteTime": {
     "end_time": "2021-03-27T07:09:19.255907Z",
     "start_time": "2021-03-27T07:09:19.247901Z"
    }
   },
   "outputs": [
    {
     "data": {
      "text/plain": [
       "tensor([11,  3,  6,  2,  7,  5,  4,  1,  8,  9, 10])"
      ]
     },
     "execution_count": 119,
     "metadata": {},
     "output_type": "execute_result"
    }
   ],
   "source": [
    "model(input_batch).detach().argmax(dim=1)"
   ]
  },
  {
   "cell_type": "markdown",
   "metadata": {},
   "source": [
    "## torch.max"
   ]
  },
  {
   "cell_type": "code",
   "execution_count": 125,
   "metadata": {
    "ExecuteTime": {
     "end_time": "2021-03-27T07:10:27.161187Z",
     "start_time": "2021-03-27T07:10:27.152302Z"
    }
   },
   "outputs": [
    {
     "data": {
      "text/plain": [
       "torch.return_types.max(\n",
       "values=tensor([12.2623, 11.9291, 12.8829, 12.8098, 12.9819, 13.3654,  9.9333, 12.5040,\n",
       "        13.0879, 12.2386, 13.3414]),\n",
       "indices=tensor([11,  3,  6,  2,  7,  5,  4,  1,  8,  9, 10]))"
      ]
     },
     "execution_count": 125,
     "metadata": {},
     "output_type": "execute_result"
    }
   ],
   "source": [
    "model(input_batch).detach().max(dim=1)"
   ]
  },
  {
   "cell_type": "code",
   "execution_count": 123,
   "metadata": {
    "ExecuteTime": {
     "end_time": "2021-03-27T07:10:19.552246Z",
     "start_time": "2021-03-27T07:10:19.543796Z"
    },
    "collapsed": true
   },
   "outputs": [
    {
     "data": {
      "text/plain": [
       "torch.return_types.max(\n",
       "values=tensor([[12.2623],\n",
       "        [11.9291],\n",
       "        [12.8829],\n",
       "        [12.8098],\n",
       "        [12.9819],\n",
       "        [13.3654],\n",
       "        [ 9.9333],\n",
       "        [12.5040],\n",
       "        [13.0879],\n",
       "        [12.2386],\n",
       "        [13.3414]]),\n",
       "indices=tensor([[11],\n",
       "        [ 3],\n",
       "        [ 6],\n",
       "        [ 2],\n",
       "        [ 7],\n",
       "        [ 5],\n",
       "        [ 4],\n",
       "        [ 1],\n",
       "        [ 8],\n",
       "        [ 9],\n",
       "        [10]]))"
      ]
     },
     "execution_count": 123,
     "metadata": {},
     "output_type": "execute_result"
    }
   ],
   "source": [
    "model(input_batch).detach().max(dim=1, keepdim=True)"
   ]
  },
  {
   "cell_type": "code",
   "execution_count": 126,
   "metadata": {
    "ExecuteTime": {
     "end_time": "2021-03-27T07:10:43.906001Z",
     "start_time": "2021-03-27T07:10:43.897682Z"
    },
    "collapsed": true
   },
   "outputs": [
    {
     "data": {
      "text/plain": [
       "tensor([[11],\n",
       "        [ 3],\n",
       "        [ 6],\n",
       "        [ 2],\n",
       "        [ 7],\n",
       "        [ 5],\n",
       "        [ 4],\n",
       "        [ 1],\n",
       "        [ 8],\n",
       "        [ 9],\n",
       "        [10]])"
      ]
     },
     "execution_count": 126,
     "metadata": {},
     "output_type": "execute_result"
    }
   ],
   "source": [
    "model(input_batch).detach().max(dim=1, keepdim=True)[1]"
   ]
  },
  {
   "cell_type": "code",
   "execution_count": 104,
   "metadata": {
    "ExecuteTime": {
     "end_time": "2021-03-27T07:03:10.633717Z",
     "start_time": "2021-03-27T07:03:10.627546Z"
    }
   },
   "outputs": [
    {
     "data": {
      "text/plain": [
       "['everyone,',\n",
       " 'my',\n",
       " 'name',\n",
       " 'is',\n",
       " 'jia',\n",
       " 'chang',\n",
       " 'min,',\n",
       " 'nice',\n",
       " 'to',\n",
       " 'meet',\n",
       " 'you']"
      ]
     },
     "execution_count": 104,
     "metadata": {},
     "output_type": "execute_result"
    }
   ],
   "source": [
    "[idx2word[idx.item()] for idx in target_batch]"
   ]
  },
  {
   "cell_type": "code",
   "execution_count": null,
   "metadata": {},
   "outputs": [],
   "source": [
    "predict = model(input_batch)"
   ]
  },
  {
   "cell_type": "code",
   "execution_count": 72,
   "metadata": {
    "ExecuteTime": {
     "end_time": "2021-03-27T06:49:42.463279Z",
     "start_time": "2021-03-27T06:49:42.458723Z"
    }
   },
   "outputs": [
    {
     "data": {
      "text/plain": [
       "{'hello': 0,\n",
       " 'nice': 1,\n",
       " 'is': 2,\n",
       " 'my': 3,\n",
       " 'min,': 4,\n",
       " 'chang': 5,\n",
       " 'name': 6,\n",
       " 'jia': 7,\n",
       " 'to': 8,\n",
       " 'meet': 9,\n",
       " 'you': 10,\n",
       " 'everyone,': 11}"
      ]
     },
     "execution_count": 72,
     "metadata": {},
     "output_type": "execute_result"
    }
   ],
   "source": [
    "word2idx"
   ]
  },
  {
   "cell_type": "code",
   "execution_count": 73,
   "metadata": {
    "ExecuteTime": {
     "end_time": "2021-03-27T06:49:44.497959Z",
     "start_time": "2021-03-27T06:49:44.492825Z"
    }
   },
   "outputs": [
    {
     "data": {
      "text/plain": [
       "{0: 'hello',\n",
       " 1: 'nice',\n",
       " 2: 'is',\n",
       " 3: 'my',\n",
       " 4: 'min,',\n",
       " 5: 'chang',\n",
       " 6: 'name',\n",
       " 7: 'jia',\n",
       " 8: 'to',\n",
       " 9: 'meet',\n",
       " 10: 'you',\n",
       " 11: 'everyone,'}"
      ]
     },
     "execution_count": 73,
     "metadata": {},
     "output_type": "execute_result"
    }
   ],
   "source": [
    "idx2word"
   ]
  },
  {
   "cell_type": "code",
   "execution_count": 74,
   "metadata": {
    "ExecuteTime": {
     "end_time": "2021-03-27T06:49:58.872585Z",
     "start_time": "2021-03-27T06:49:58.868226Z"
    }
   },
   "outputs": [
    {
     "data": {
      "text/plain": [
       "12"
      ]
     },
     "execution_count": 74,
     "metadata": {},
     "output_type": "execute_result"
    }
   ],
   "source": [
    "max_len"
   ]
  },
  {
   "cell_type": "code",
   "execution_count": 76,
   "metadata": {
    "ExecuteTime": {
     "end_time": "2021-03-27T06:51:19.703612Z",
     "start_time": "2021-03-27T06:51:19.699503Z"
    }
   },
   "outputs": [
    {
     "data": {
      "text/plain": [
       "12"
      ]
     },
     "execution_count": 76,
     "metadata": {},
     "output_type": "execute_result"
    }
   ],
   "source": [
    "n_class"
   ]
  },
  {
   "cell_type": "code",
   "execution_count": 46,
   "metadata": {
    "ExecuteTime": {
     "end_time": "2021-03-27T06:15:25.009924Z",
     "start_time": "2021-03-27T06:15:25.003806Z"
    }
   },
   "outputs": [
    {
     "data": {
      "text/plain": [
       "tensor([[1., 1., 1.],\n",
       "        [1., 1., 1.],\n",
       "        [1., 1., 1.],\n",
       "        [1., 1., 1.],\n",
       "        [1., 1., 1.],\n",
       "        [1., 1., 1.],\n",
       "        [1., 1., 1.],\n",
       "        [1., 1., 1.],\n",
       "        [1., 1., 1.],\n",
       "        [1., 1., 1.]])"
      ]
     },
     "execution_count": 46,
     "metadata": {},
     "output_type": "execute_result"
    }
   ],
   "source": [
    "torch.ones((10,3))"
   ]
  },
  {
   "cell_type": "code",
   "execution_count": 50,
   "metadata": {
    "ExecuteTime": {
     "end_time": "2021-03-27T06:23:22.569343Z",
     "start_time": "2021-03-27T06:23:22.561403Z"
    }
   },
   "outputs": [
    {
     "data": {
      "text/plain": [
       "torch.Size([26, 27, 27])"
      ]
     },
     "execution_count": 50,
     "metadata": {},
     "output_type": "execute_result"
    }
   ],
   "source": [
    "torch.FloatTensor(input_batch).size()"
   ]
  },
  {
   "cell_type": "code",
   "execution_count": 51,
   "metadata": {
    "ExecuteTime": {
     "end_time": "2021-03-27T06:24:00.879088Z",
     "start_time": "2021-03-27T06:24:00.874288Z"
    }
   },
   "outputs": [
    {
     "data": {
      "text/plain": [
       "torch.Size([26])"
      ]
     },
     "execution_count": 51,
     "metadata": {},
     "output_type": "execute_result"
    }
   ],
   "source": [
    "torch.LongTensor(target_batch).size()"
   ]
  },
  {
   "cell_type": "code",
   "execution_count": 63,
   "metadata": {
    "ExecuteTime": {
     "end_time": "2021-03-27T06:44:58.530857Z",
     "start_time": "2021-03-27T06:44:58.526399Z"
    }
   },
   "outputs": [
    {
     "data": {
      "text/plain": [
       "'27.000000'"
      ]
     },
     "execution_count": 63,
     "metadata": {},
     "output_type": "execute_result"
    }
   ],
   "source": [
    "f\"{max_len:.6f}\""
   ]
  },
  {
   "cell_type": "code",
   "execution_count": 84,
   "metadata": {
    "ExecuteTime": {
     "end_time": "2021-03-27T06:53:48.809432Z",
     "start_time": "2021-03-27T06:53:48.805726Z"
    }
   },
   "outputs": [],
   "source": [
    "a = torch.arange(18).view(2,3,3)"
   ]
  },
  {
   "cell_type": "code",
   "execution_count": 85,
   "metadata": {
    "ExecuteTime": {
     "end_time": "2021-03-27T06:53:50.731360Z",
     "start_time": "2021-03-27T06:53:50.726131Z"
    }
   },
   "outputs": [
    {
     "data": {
      "text/plain": [
       "tensor([[[ 0,  1,  2],\n",
       "         [ 3,  4,  5],\n",
       "         [ 6,  7,  8]],\n",
       "\n",
       "        [[ 9, 10, 11],\n",
       "         [12, 13, 14],\n",
       "         [15, 16, 17]]])"
      ]
     },
     "execution_count": 85,
     "metadata": {},
     "output_type": "execute_result"
    }
   ],
   "source": [
    "a"
   ]
  },
  {
   "cell_type": "code",
   "execution_count": 86,
   "metadata": {
    "ExecuteTime": {
     "end_time": "2021-03-27T06:53:53.449556Z",
     "start_time": "2021-03-27T06:53:53.444852Z"
    }
   },
   "outputs": [
    {
     "data": {
      "text/plain": [
       "tensor([[ 9, 10, 11],\n",
       "        [12, 13, 14],\n",
       "        [15, 16, 17]])"
      ]
     },
     "execution_count": 86,
     "metadata": {},
     "output_type": "execute_result"
    }
   ],
   "source": [
    "a[-1]"
   ]
  },
  {
   "cell_type": "code",
   "execution_count": 87,
   "metadata": {
    "ExecuteTime": {
     "end_time": "2021-03-27T06:53:57.514471Z",
     "start_time": "2021-03-27T06:53:57.509419Z"
    }
   },
   "outputs": [
    {
     "data": {
      "text/plain": [
       "tensor([[[ 9, 10, 11],\n",
       "         [12, 13, 14],\n",
       "         [15, 16, 17]]])"
      ]
     },
     "execution_count": 87,
     "metadata": {},
     "output_type": "execute_result"
    }
   ],
   "source": [
    "a[-1:]"
   ]
  },
  {
   "cell_type": "code",
   "execution_count": null,
   "metadata": {},
   "outputs": [],
   "source": []
  }
 ],
 "metadata": {
  "kernelspec": {
   "display_name": "Python 3",
   "language": "python",
   "name": "python3"
  },
  "language_info": {
   "codemirror_mode": {
    "name": "ipython",
    "version": 3
   },
   "file_extension": ".py",
   "mimetype": "text/x-python",
   "name": "python",
   "nbconvert_exporter": "python",
   "pygments_lexer": "ipython3",
   "version": "3.7.6"
  },
  "toc": {
   "base_numbering": 1,
   "nav_menu": {},
   "number_sections": true,
   "sideBar": true,
   "skip_h1_title": false,
   "title_cell": "Table of Contents",
   "title_sidebar": "Contents",
   "toc_cell": false,
   "toc_position": {},
   "toc_section_display": true,
   "toc_window_display": false
  },
  "varInspector": {
   "cols": {
    "lenName": 16,
    "lenType": 16,
    "lenVar": 40
   },
   "kernels_config": {
    "python": {
     "delete_cmd_postfix": "",
     "delete_cmd_prefix": "del ",
     "library": "var_list.py",
     "varRefreshCmd": "print(var_dic_list())"
    },
    "r": {
     "delete_cmd_postfix": ") ",
     "delete_cmd_prefix": "rm(",
     "library": "var_list.r",
     "varRefreshCmd": "cat(var_dic_list()) "
    }
   },
   "types_to_exclude": [
    "module",
    "function",
    "builtin_function_or_method",
    "instance",
    "_Feature"
   ],
   "window_display": false
  }
 },
 "nbformat": 4,
 "nbformat_minor": 4
}
