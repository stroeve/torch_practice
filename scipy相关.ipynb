{
 "cells": [
  {
   "cell_type": "code",
   "execution_count": 7,
   "metadata": {
    "ExecuteTime": {
     "end_time": "2021-03-29T06:13:50.162475Z",
     "start_time": "2021-03-29T06:13:50.159551Z"
    }
   },
   "outputs": [],
   "source": [
    "import random\n",
    "import scipy.sparse as sp\n",
    "import numpy"
   ]
  },
  {
   "cell_type": "markdown",
   "metadata": {},
   "source": [
    "## 创建稀疏矩阵"
   ]
  },
  {
   "cell_type": "markdown",
   "metadata": {},
   "source": [
    "### coo_matrix类创建稀疏矩阵   \n",
    "三元组，ijv"
   ]
  },
  {
   "cell_type": "code",
   "execution_count": 26,
   "metadata": {
    "ExecuteTime": {
     "end_time": "2021-03-29T06:24:06.603774Z",
     "start_time": "2021-03-29T06:24:06.596347Z"
    }
   },
   "outputs": [],
   "source": [
    "# 随机产生行、列坐标和值\n",
    "a = random.sample(range(10),5)\n",
    "b = random.sample(range(10),5)\n",
    "c = random.sample(range(100),5)\n",
    "# 将list数据转为array数组\n",
    "rows = np.array(a)\n",
    "cols = np.array(b)\n",
    "v = np.array(c)\n",
    "# coo_matrix函数生成稀疏矩阵\n",
    "sparseM = sp.coo_matrix((v,(rows,cols)))\n",
    "# todense将稀疏矩阵转为完全阵\n",
    "fullM = sparseM.todense()"
   ]
  },
  {
   "cell_type": "code",
   "execution_count": 74,
   "metadata": {
    "ExecuteTime": {
     "end_time": "2021-03-29T09:16:01.118089Z",
     "start_time": "2021-03-29T09:16:01.113091Z"
    }
   },
   "outputs": [
    {
     "data": {
      "text/plain": [
       "matrix([[78,  0,  0,  0,  0,  0,  0,  0,  0,  0],\n",
       "        [ 0,  0,  0,  0,  0,  0,  0,  0,  0,  0],\n",
       "        [ 0,  0,  0,  0, 86,  0,  0,  0,  0,  0],\n",
       "        [ 0,  0,  0,  0,  0,  0,  0,  0, 72,  0],\n",
       "        [ 0,  0,  0,  0,  0,  0,  0,  0,  0,  0],\n",
       "        [ 0,  0,  0,  0,  0,  0,  0,  0,  0,  0],\n",
       "        [ 0,  0,  0,  0,  0,  0,  0,  0,  0,  0],\n",
       "        [ 0,  0,  0,  0,  0,  0,  0,  0,  0,  4],\n",
       "        [ 0, 73,  0,  0,  0,  0,  0,  0,  0,  0]])"
      ]
     },
     "execution_count": 74,
     "metadata": {},
     "output_type": "execute_result"
    }
   ],
   "source": [
    "sparseM.todense()"
   ]
  },
  {
   "cell_type": "code",
   "execution_count": 81,
   "metadata": {
    "ExecuteTime": {
     "end_time": "2021-03-29T09:45:55.710791Z",
     "start_time": "2021-03-29T09:45:55.701052Z"
    }
   },
   "outputs": [
    {
     "name": "stderr",
     "output_type": "stream",
     "text": [
      "/Users/jiachangmin/opt/anaconda3/lib/python3.7/site-packages/ipykernel_launcher.py:2: RuntimeWarning: divide by zero encountered in power\n",
      "  \n"
     ]
    },
    {
     "data": {
      "text/plain": [
       "array([[0.2       ,        inf,        inf],\n",
       "       [       inf, 0.2       ,        inf],\n",
       "       [       inf,        inf, 0.09090909]])"
      ]
     },
     "execution_count": 81,
     "metadata": {},
     "output_type": "execute_result"
    }
   ],
   "source": [
    "rowsum = np.array(sparse_csc.sum(1))\n",
    "np.power(np.multiply(np.eye(3), rowsum), -1)"
   ]
  },
  {
   "cell_type": "code",
   "execution_count": 78,
   "metadata": {
    "ExecuteTime": {
     "end_time": "2021-03-29T09:44:58.222028Z",
     "start_time": "2021-03-29T09:44:58.217951Z"
    }
   },
   "outputs": [
    {
     "data": {
      "text/plain": [
       "array([[ 5],\n",
       "       [ 5],\n",
       "       [11]], dtype=int64)"
      ]
     },
     "execution_count": 78,
     "metadata": {},
     "output_type": "execute_result"
    }
   ],
   "source": [
    "rowsum"
   ]
  },
  {
   "cell_type": "markdown",
   "metadata": {
    "ExecuteTime": {
     "end_time": "2021-03-29T06:24:30.497461Z",
     "start_time": "2021-03-29T06:24:30.493371Z"
    }
   },
   "source": [
    "### csc_matrix类创建稀疏矩阵  \n",
    "真正的csc_matrix创建稀疏矩阵 csc_matrix类，实际就是数据结构里按列存储稀疏矩阵时，给出每列里非零个数，以及列里那几行是非零值。  \n",
    "csc_matrix((data, indices, indptr), [shape=(M, N)])"
   ]
  },
  {
   "cell_type": "markdown",
   "metadata": {},
   "source": [
    "总结一下csc_matrix的各个参数含义，data是稀疏矩阵的值；indices给出各列非0数据所在的行号；  \n",
    "indptr则是给出前i列非0元素个数：indptr[0]表示第0列前有0个，indptr[1]第1列前共有0列那么  \n",
    "多个实际是第0列非0个数，indptr[2]在则是记录了0、1列一共有多少个非0元素。"
   ]
  },
  {
   "cell_type": "code",
   "execution_count": 59,
   "metadata": {
    "ExecuteTime": {
     "end_time": "2021-03-29T07:45:22.182888Z",
     "start_time": "2021-03-29T07:45:22.176645Z"
    }
   },
   "outputs": [
    {
     "name": "stdout",
     "output_type": "stream",
     "text": [
      "[[1 0 4]\n",
      " [0 0 5]\n",
      " [2 3 6]]\n",
      "[[1 0 2]\n",
      " [0 0 3]\n",
      " [4 5 6]]\n"
     ]
    }
   ],
   "source": [
    "data = np.array([1, 2, 3, 4, 5, 6])\n",
    "indptr = np.array([0, 2, 3, 6])\n",
    "indices = np.array([0, 2, 2, 0, 1, 2])\n",
    "sparse_csc = sp.csc_matrix((data, indices, indptr), shape=(3,3))\n",
    "print(sparse_csc.todense())\n",
    "print(sparse_csc.T.todense())"
   ]
  },
  {
   "cell_type": "code",
   "execution_count": 62,
   "metadata": {
    "ExecuteTime": {
     "end_time": "2021-03-29T07:49:57.178337Z",
     "start_time": "2021-03-29T07:49:57.172954Z"
    }
   },
   "outputs": [
    {
     "data": {
      "text/plain": [
       "matrix([[False, False, False],\n",
       "        [False, False, False],\n",
       "        [ True,  True, False]])"
      ]
     },
     "execution_count": 62,
     "metadata": {},
     "output_type": "execute_result"
    }
   ],
   "source": [
    "(sparse_csc.T > sparse_csc).todense()"
   ]
  },
  {
   "cell_type": "code",
   "execution_count": 65,
   "metadata": {
    "ExecuteTime": {
     "end_time": "2021-03-29T08:22:59.999073Z",
     "start_time": "2021-03-29T08:22:59.992038Z"
    }
   },
   "outputs": [
    {
     "data": {
      "text/plain": [
       "matrix([[ 1,  0,  8],\n",
       "        [ 0,  0, 15],\n",
       "        [ 8, 15, 36]], dtype=int64)"
      ]
     },
     "execution_count": 65,
     "metadata": {},
     "output_type": "execute_result"
    }
   ],
   "source": [
    "sparse_csc.multiply(sparse_csc.T).todense()"
   ]
  },
  {
   "cell_type": "code",
   "execution_count": 73,
   "metadata": {
    "ExecuteTime": {
     "end_time": "2021-03-29T09:15:33.777826Z",
     "start_time": "2021-03-29T09:15:33.773939Z"
    }
   },
   "outputs": [
    {
     "data": {
      "text/plain": [
       "<3x3 sparse matrix of type '<class 'numpy.int64'>'\n",
       "\twith 6 stored elements in Compressed Sparse Column format>"
      ]
     },
     "execution_count": 73,
     "metadata": {},
     "output_type": "execute_result"
    }
   ],
   "source": [
    "sparse_csc"
   ]
  },
  {
   "cell_type": "code",
   "execution_count": 72,
   "metadata": {
    "ExecuteTime": {
     "end_time": "2021-03-29T09:14:38.198844Z",
     "start_time": "2021-03-29T09:14:38.190044Z"
    }
   },
   "outputs": [
    {
     "ename": "ValueError",
     "evalue": "Integers to negative integer powers are not allowed.",
     "output_type": "error",
     "traceback": [
      "\u001b[0;31m---------------------------------------------------------------------------\u001b[0m",
      "\u001b[0;31mValueError\u001b[0m                                Traceback (most recent call last)",
      "\u001b[0;32m<ipython-input-72-2d83ca207b62>\u001b[0m in \u001b[0;36m<module>\u001b[0;34m\u001b[0m\n\u001b[1;32m      1\u001b[0m \u001b[0mrowsum\u001b[0m \u001b[0;34m=\u001b[0m \u001b[0mnp\u001b[0m\u001b[0;34m.\u001b[0m\u001b[0marray\u001b[0m\u001b[0;34m(\u001b[0m\u001b[0msparse_csc\u001b[0m\u001b[0;34m.\u001b[0m\u001b[0msum\u001b[0m\u001b[0;34m(\u001b[0m\u001b[0;36m1\u001b[0m\u001b[0;34m)\u001b[0m\u001b[0;34m)\u001b[0m\u001b[0;34m\u001b[0m\u001b[0;34m\u001b[0m\u001b[0m\n\u001b[0;32m----> 2\u001b[0;31m \u001b[0mr_inv\u001b[0m \u001b[0;34m=\u001b[0m \u001b[0mnp\u001b[0m\u001b[0;34m.\u001b[0m\u001b[0mpower\u001b[0m\u001b[0;34m(\u001b[0m\u001b[0mrowsum\u001b[0m\u001b[0;34m,\u001b[0m \u001b[0;34m-\u001b[0m\u001b[0;36m1\u001b[0m\u001b[0;34m)\u001b[0m\u001b[0;34m.\u001b[0m\u001b[0mflatten\u001b[0m\u001b[0;34m(\u001b[0m\u001b[0;34m)\u001b[0m\u001b[0;34m\u001b[0m\u001b[0;34m\u001b[0m\u001b[0m\n\u001b[0m",
      "\u001b[0;31mValueError\u001b[0m: Integers to negative integer powers are not allowed."
     ]
    }
   ],
   "source": [
    "rowsum = np.array(sparse_csc.sum(1))\n",
    "r_inv = np.power(rowsum, -1).flatten()"
   ]
  },
  {
   "cell_type": "code",
   "execution_count": 70,
   "metadata": {
    "ExecuteTime": {
     "end_time": "2021-03-29T09:12:24.580617Z",
     "start_time": "2021-03-29T09:12:24.575837Z"
    }
   },
   "outputs": [
    {
     "data": {
      "text/plain": [
       "array([[ 5],\n",
       "       [ 5],\n",
       "       [11]], dtype=int64)"
      ]
     },
     "execution_count": 70,
     "metadata": {},
     "output_type": "execute_result"
    }
   ],
   "source": [
    "rowsum"
   ]
  },
  {
   "cell_type": "markdown",
   "metadata": {},
   "source": [
    "自己生成该矩阵  \n",
    " [[  0.   0.   0.   0.]  \n",
    " [  0.   0.  12.   0.]  \n",
    " [  0.   0.  0.   22.]]"
   ]
  },
  {
   "cell_type": "code",
   "execution_count": 52,
   "metadata": {
    "ExecuteTime": {
     "end_time": "2021-03-29T07:08:51.123644Z",
     "start_time": "2021-03-29T07:08:51.117827Z"
    }
   },
   "outputs": [
    {
     "name": "stdout",
     "output_type": "stream",
     "text": [
      "[[ 0  0  0  0]\n",
      " [ 0  0 12  0]\n",
      " [ 0  0  0 22]]\n"
     ]
    }
   ],
   "source": [
    "data = np.array([12, 22])\n",
    "indices = np.array([1, 2])\n",
    "indptr = np.array([0, 0, 0, 1, 2])\n",
    "sparse_csc_ = sp.csc_matrix((data, indices, indptr), shape=(3,4))\n",
    "print(sparse_csc_.todense())"
   ]
  },
  {
   "cell_type": "markdown",
   "metadata": {},
   "source": [
    "### csr_matrix类创建稀疏矩阵  \n",
    "csr_matrix类是按行存储矩阵，和csc_matrix按列正好相对应。"
   ]
  },
  {
   "cell_type": "code",
   "execution_count": 53,
   "metadata": {
    "ExecuteTime": {
     "end_time": "2021-03-29T07:13:59.946163Z",
     "start_time": "2021-03-29T07:13:59.940816Z"
    }
   },
   "outputs": [
    {
     "name": "stdout",
     "output_type": "stream",
     "text": [
      "[[ 0  0  0  0]\n",
      " [ 0  0 12  0]\n",
      " [ 0  0  0 22]]\n"
     ]
    }
   ],
   "source": [
    "data = np.array([12, 22])\n",
    "indices = np.array([2, 3])\n",
    "indptr = np.array([0, 0, 1, 2])\n",
    "sparse_csr = sp.csr_matrix((data, indices, indptr), shape=(3,4))\n",
    "print(sparse_csr.todense())"
   ]
  },
  {
   "cell_type": "markdown",
   "metadata": {},
   "source": [
    "### bsr_matrix类创建稀疏矩阵"
   ]
  },
  {
   "cell_type": "code",
   "execution_count": 58,
   "metadata": {
    "ExecuteTime": {
     "end_time": "2021-03-29T07:32:49.110218Z",
     "start_time": "2021-03-29T07:32:49.102093Z"
    }
   },
   "outputs": [
    {
     "name": "stdout",
     "output_type": "stream",
     "text": [
      "[[ 0  0  0  0  0  0  0  0  0  0  0  0]\n",
      " [ 0  0  0  0  0  0  0  0  0  0  0  0]\n",
      " [ 0  0  0  0  0  0 12 12 12  0  0  0]\n",
      " [ 0  0  0  0  0  0 12 12 12  0  0  0]\n",
      " [ 0  0  0  0  0  0  0  0  0 22 22 22]\n",
      " [ 0  0  0  0  0  0  0  0  0 22 22 22]]\n"
     ]
    }
   ],
   "source": [
    "data = np.array([12, 22]).repeat(6).reshape(2,2,3)\n",
    "indices = np.array([2,3])\n",
    "indptr = np.array([0,0,1,2])\n",
    "sparse_bsr = sp.bsr_matrix((data, indices, indptr), shape=(6,12))\n",
    "print(sparse_bsr.todense())"
   ]
  },
  {
   "cell_type": "code",
   "execution_count": 39,
   "metadata": {
    "ExecuteTime": {
     "end_time": "2021-03-29T06:38:48.329131Z",
     "start_time": "2021-03-29T06:38:48.322652Z"
    }
   },
   "outputs": [
    {
     "data": {
      "text/plain": [
       "(array([3, 7, 0, 2, 8], dtype=int32), array([8, 9, 0, 4, 1], dtype=int32))"
      ]
     },
     "execution_count": 39,
     "metadata": {},
     "output_type": "execute_result"
    }
   ],
   "source": [
    "sparseM.nonzero()"
   ]
  },
  {
   "cell_type": "code",
   "execution_count": 42,
   "metadata": {
    "ExecuteTime": {
     "end_time": "2021-03-29T06:40:03.809272Z",
     "start_time": "2021-03-29T06:40:03.804776Z"
    }
   },
   "outputs": [
    {
     "data": {
      "text/plain": [
       "(9, 10)"
      ]
     },
     "execution_count": 42,
     "metadata": {},
     "output_type": "execute_result"
    }
   ],
   "source": [
    "sparseM.shape"
   ]
  },
  {
   "cell_type": "code",
   "execution_count": null,
   "metadata": {},
   "outputs": [],
   "source": []
  }
 ],
 "metadata": {
  "kernelspec": {
   "display_name": "Python 3",
   "language": "python",
   "name": "python3"
  },
  "language_info": {
   "codemirror_mode": {
    "name": "ipython",
    "version": 3
   },
   "file_extension": ".py",
   "mimetype": "text/x-python",
   "name": "python",
   "nbconvert_exporter": "python",
   "pygments_lexer": "ipython3",
   "version": "3.7.6"
  },
  "toc": {
   "base_numbering": 1,
   "nav_menu": {},
   "number_sections": true,
   "sideBar": true,
   "skip_h1_title": false,
   "title_cell": "Table of Contents",
   "title_sidebar": "Contents",
   "toc_cell": false,
   "toc_position": {},
   "toc_section_display": true,
   "toc_window_display": false
  },
  "varInspector": {
   "cols": {
    "lenName": 16,
    "lenType": 16,
    "lenVar": 40
   },
   "kernels_config": {
    "python": {
     "delete_cmd_postfix": "",
     "delete_cmd_prefix": "del ",
     "library": "var_list.py",
     "varRefreshCmd": "print(var_dic_list())"
    },
    "r": {
     "delete_cmd_postfix": ") ",
     "delete_cmd_prefix": "rm(",
     "library": "var_list.r",
     "varRefreshCmd": "cat(var_dic_list()) "
    }
   },
   "types_to_exclude": [
    "module",
    "function",
    "builtin_function_or_method",
    "instance",
    "_Feature"
   ],
   "window_display": false
  }
 },
 "nbformat": 4,
 "nbformat_minor": 4
}
