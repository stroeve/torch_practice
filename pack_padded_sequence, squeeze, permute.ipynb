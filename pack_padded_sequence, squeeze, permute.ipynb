{
 "cells": [
  {
   "cell_type": "code",
   "execution_count": 1,
   "metadata": {
    "ExecuteTime": {
     "end_time": "2021-03-25T13:42:07.821726Z",
     "start_time": "2021-03-25T13:42:07.381972Z"
    }
   },
   "outputs": [],
   "source": [
    "import torch\n",
    "from torch.autograd import Variable"
   ]
  },
  {
   "cell_type": "code",
   "execution_count": 2,
   "metadata": {
    "ExecuteTime": {
     "end_time": "2021-03-25T12:57:52.260712Z",
     "start_time": "2021-03-25T12:57:52.255547Z"
    }
   },
   "outputs": [],
   "source": [
    "rnn = torch.nn.LSTM(50, 128, 1, batch_first=True, bidirectional=True)"
   ]
  },
  {
   "cell_type": "code",
   "execution_count": 3,
   "metadata": {
    "ExecuteTime": {
     "end_time": "2021-03-25T12:58:01.091579Z",
     "start_time": "2021-03-25T12:58:01.080524Z"
    }
   },
   "outputs": [
    {
     "data": {
      "text/plain": [
       "LSTM(50, 128, batch_first=True, bidirectional=True)"
      ]
     },
     "execution_count": 3,
     "metadata": {},
     "output_type": "execute_result"
    }
   ],
   "source": [
    "rnn"
   ]
  },
  {
   "cell_type": "code",
   "execution_count": 6,
   "metadata": {
    "ExecuteTime": {
     "end_time": "2021-03-25T13:02:49.315779Z",
     "start_time": "2021-03-25T13:02:49.310785Z"
    }
   },
   "outputs": [],
   "source": [
    "# batch_size = 100 ,seq_len=100\n",
    "input = torch.randn(100,10,50)\n",
    "h_0 = torch.randn(2, 100, 128)\n",
    "c_0 = torch.randn(2, 100, 128)"
   ]
  },
  {
   "cell_type": "code",
   "execution_count": 7,
   "metadata": {
    "ExecuteTime": {
     "end_time": "2021-03-25T13:02:50.686562Z",
     "start_time": "2021-03-25T13:02:50.663796Z"
    }
   },
   "outputs": [],
   "source": [
    "output, (h_n, c_n) = rnn(input, (h_0, c_0))"
   ]
  },
  {
   "cell_type": "code",
   "execution_count": 10,
   "metadata": {
    "ExecuteTime": {
     "end_time": "2021-03-25T13:03:38.127279Z",
     "start_time": "2021-03-25T13:03:38.122867Z"
    }
   },
   "outputs": [
    {
     "data": {
      "text/plain": [
       "torch.Size([10, 256])"
      ]
     },
     "execution_count": 10,
     "metadata": {},
     "output_type": "execute_result"
    }
   ],
   "source": [
    "output[-1].shape"
   ]
  },
  {
   "cell_type": "markdown",
   "metadata": {},
   "source": [
    "## torch.nn.utils.rnn.pack_padded_sequence ,  torch.nn.utils.rnn.pad_packed_sequence\n",
    "https://www.cnblogs.com/sbj123456789/p/9834018.html"
   ]
  },
  {
   "cell_type": "code",
   "execution_count": 2,
   "metadata": {
    "ExecuteTime": {
     "end_time": "2021-03-25T13:42:11.357733Z",
     "start_time": "2021-03-25T13:42:11.349261Z"
    }
   },
   "outputs": [],
   "source": [
    "batch_size = 2\n",
    "hidden_size = 5\n",
    "n_layers = 1\n",
    "max_len = 3\n",
    "tensor_in = torch.FloatTensor([[1,2,3],[1,0,0]]).resize_(2,3,1)\n",
    "#tensor_in = Variable(tensor_in)\n",
    "seq_lengths = [3, 1]\n",
    "h_0 = torch.randn(2*n_layers, batch_size, hidden_size)\n",
    "c_0 = torch.randn(2*n_layers, batch_size, hidden_size)"
   ]
  },
  {
   "cell_type": "code",
   "execution_count": 3,
   "metadata": {
    "ExecuteTime": {
     "end_time": "2021-03-25T13:42:11.895896Z",
     "start_time": "2021-03-25T13:42:11.883752Z"
    }
   },
   "outputs": [
    {
     "data": {
      "text/plain": [
       "False"
      ]
     },
     "execution_count": 3,
     "metadata": {},
     "output_type": "execute_result"
    }
   ],
   "source": [
    "tensor_in.requires_grad"
   ]
  },
  {
   "cell_type": "code",
   "execution_count": 4,
   "metadata": {
    "ExecuteTime": {
     "end_time": "2021-03-25T13:42:12.672634Z",
     "start_time": "2021-03-25T13:42:12.667889Z"
    }
   },
   "outputs": [
    {
     "data": {
      "text/plain": [
       "torch.Size([2, 3, 1])"
      ]
     },
     "execution_count": 4,
     "metadata": {},
     "output_type": "execute_result"
    }
   ],
   "source": [
    "tensor_in.shape"
   ]
  },
  {
   "cell_type": "code",
   "execution_count": 5,
   "metadata": {
    "ExecuteTime": {
     "end_time": "2021-03-25T13:42:24.347087Z",
     "start_time": "2021-03-25T13:42:24.341703Z"
    }
   },
   "outputs": [],
   "source": [
    "pack = torch.nn.utils.rnn.pack_padded_sequence(tensor_in, seq_lengths, batch_first=True)"
   ]
  },
  {
   "cell_type": "code",
   "execution_count": 6,
   "metadata": {
    "ExecuteTime": {
     "end_time": "2021-03-25T13:42:25.344970Z",
     "start_time": "2021-03-25T13:42:25.339484Z"
    }
   },
   "outputs": [
    {
     "data": {
      "text/plain": [
       "PackedSequence(data=tensor([[1.],\n",
       "        [1.],\n",
       "        [2.],\n",
       "        [3.]]), batch_sizes=tensor([2, 1, 1]), sorted_indices=None, unsorted_indices=None)"
      ]
     },
     "execution_count": 6,
     "metadata": {},
     "output_type": "execute_result"
    }
   ],
   "source": [
    "pack"
   ]
  },
  {
   "cell_type": "code",
   "execution_count": 7,
   "metadata": {
    "ExecuteTime": {
     "end_time": "2021-03-25T13:42:29.616526Z",
     "start_time": "2021-03-25T13:42:29.612202Z"
    }
   },
   "outputs": [],
   "source": [
    "rnn = torch.nn.LSTM(1, hidden_size, batch_first=True, bidirectional=True)"
   ]
  },
  {
   "cell_type": "code",
   "execution_count": 8,
   "metadata": {
    "ExecuteTime": {
     "end_time": "2021-03-25T13:42:30.560377Z",
     "start_time": "2021-03-25T13:42:30.551237Z"
    }
   },
   "outputs": [],
   "source": [
    "out, _ = rnn(pack, (h_0, c_0))"
   ]
  },
  {
   "cell_type": "code",
   "execution_count": 9,
   "metadata": {
    "ExecuteTime": {
     "end_time": "2021-03-25T13:42:31.240288Z",
     "start_time": "2021-03-25T13:42:31.234845Z"
    }
   },
   "outputs": [
    {
     "data": {
      "text/plain": [
       "PackedSequence(data=tensor([[ 0.1012,  0.0214, -0.2542,  0.3307,  0.3773, -0.1190, -0.1632,  0.0674,\n",
       "          0.1019,  0.0827],\n",
       "        [-0.1845,  0.5667,  0.3414, -0.3081,  0.1382,  0.1026, -0.1866,  0.2422,\n",
       "          0.1027,  0.2133],\n",
       "        [ 0.2950,  0.1806, -0.1183, -0.2166,  0.1873, -0.1616, -0.1425,  0.1134,\n",
       "          0.1706,  0.1141],\n",
       "        [ 0.5826,  0.1848, -0.0168, -0.4499,  0.1452, -0.0988, -0.0674,  0.1229,\n",
       "          0.1732,  0.1173]], grad_fn=<CatBackward>), batch_sizes=tensor([2, 1, 1]), sorted_indices=None, unsorted_indices=None)"
      ]
     },
     "execution_count": 9,
     "metadata": {},
     "output_type": "execute_result"
    }
   ],
   "source": [
    "out"
   ]
  },
  {
   "cell_type": "code",
   "execution_count": 18,
   "metadata": {
    "ExecuteTime": {
     "end_time": "2021-03-25T13:46:25.867861Z",
     "start_time": "2021-03-25T13:46:25.864552Z"
    }
   },
   "outputs": [],
   "source": [
    "unpacked, _ = torch.nn.utils.rnn.pad_packed_sequence(out, batch_first=True)"
   ]
  },
  {
   "cell_type": "code",
   "execution_count": 19,
   "metadata": {
    "ExecuteTime": {
     "end_time": "2021-03-25T13:46:26.670284Z",
     "start_time": "2021-03-25T13:46:26.664881Z"
    }
   },
   "outputs": [
    {
     "data": {
      "text/plain": [
       "tensor([[[ 0.1012,  0.0214, -0.2542,  0.3307,  0.3773, -0.1190, -0.1632,\n",
       "           0.0674,  0.1019,  0.0827],\n",
       "         [ 0.2950,  0.1806, -0.1183, -0.2166,  0.1873, -0.1616, -0.1425,\n",
       "           0.1134,  0.1706,  0.1141],\n",
       "         [ 0.5826,  0.1848, -0.0168, -0.4499,  0.1452, -0.0988, -0.0674,\n",
       "           0.1229,  0.1732,  0.1173]],\n",
       "\n",
       "        [[-0.1845,  0.5667,  0.3414, -0.3081,  0.1382,  0.1026, -0.1866,\n",
       "           0.2422,  0.1027,  0.2133],\n",
       "         [ 0.0000,  0.0000,  0.0000,  0.0000,  0.0000,  0.0000,  0.0000,\n",
       "           0.0000,  0.0000,  0.0000],\n",
       "         [ 0.0000,  0.0000,  0.0000,  0.0000,  0.0000,  0.0000,  0.0000,\n",
       "           0.0000,  0.0000,  0.0000]]], grad_fn=<TransposeBackward0>)"
      ]
     },
     "execution_count": 19,
     "metadata": {},
     "output_type": "execute_result"
    }
   ],
   "source": [
    "unpacked"
   ]
  },
  {
   "cell_type": "code",
   "execution_count": 20,
   "metadata": {
    "ExecuteTime": {
     "end_time": "2021-03-25T13:46:34.767116Z",
     "start_time": "2021-03-25T13:46:34.762033Z"
    }
   },
   "outputs": [
    {
     "data": {
      "text/plain": [
       "torch.Size([2, 3, 10])"
      ]
     },
     "execution_count": 20,
     "metadata": {},
     "output_type": "execute_result"
    }
   ],
   "source": [
    "unpacked.shape"
   ]
  },
  {
   "cell_type": "markdown",
   "metadata": {},
   "source": [
    "## squeeze, unsqueeze,扩充、压缩维度"
   ]
  },
  {
   "cell_type": "code",
   "execution_count": 21,
   "metadata": {
    "ExecuteTime": {
     "end_time": "2021-03-25T13:50:07.738293Z",
     "start_time": "2021-03-25T13:50:07.735487Z"
    }
   },
   "outputs": [],
   "source": [
    "a = torch.randn(10,5)"
   ]
  },
  {
   "cell_type": "code",
   "execution_count": 22,
   "metadata": {
    "ExecuteTime": {
     "end_time": "2021-03-25T13:50:11.300446Z",
     "start_time": "2021-03-25T13:50:11.295630Z"
    }
   },
   "outputs": [
    {
     "data": {
      "text/plain": [
       "torch.Size([10, 5])"
      ]
     },
     "execution_count": 22,
     "metadata": {},
     "output_type": "execute_result"
    }
   ],
   "source": [
    "a.shape"
   ]
  },
  {
   "cell_type": "code",
   "execution_count": 28,
   "metadata": {
    "ExecuteTime": {
     "end_time": "2021-03-25T13:50:50.370289Z",
     "start_time": "2021-03-25T13:50:50.364451Z"
    }
   },
   "outputs": [
    {
     "data": {
      "text/plain": [
       "torch.Size([10, 5, 1])"
      ]
     },
     "execution_count": 28,
     "metadata": {},
     "output_type": "execute_result"
    }
   ],
   "source": [
    "a.unsqueeze_(dim=2).shape"
   ]
  },
  {
   "cell_type": "code",
   "execution_count": 29,
   "metadata": {
    "ExecuteTime": {
     "end_time": "2021-03-25T13:50:51.031593Z",
     "start_time": "2021-03-25T13:50:51.027170Z"
    }
   },
   "outputs": [
    {
     "data": {
      "text/plain": [
       "torch.Size([10, 5, 1])"
      ]
     },
     "execution_count": 29,
     "metadata": {},
     "output_type": "execute_result"
    }
   ],
   "source": [
    "a.shape"
   ]
  },
  {
   "cell_type": "code",
   "execution_count": 31,
   "metadata": {
    "ExecuteTime": {
     "end_time": "2021-03-25T13:51:08.441904Z",
     "start_time": "2021-03-25T13:51:08.437202Z"
    }
   },
   "outputs": [
    {
     "data": {
      "text/plain": [
       "torch.Size([10, 5])"
      ]
     },
     "execution_count": 31,
     "metadata": {},
     "output_type": "execute_result"
    }
   ],
   "source": [
    "a.squeeze(dim=2).shape"
   ]
  },
  {
   "cell_type": "markdown",
   "metadata": {},
   "source": [
    "## permute 交换维度"
   ]
  },
  {
   "cell_type": "code",
   "execution_count": 32,
   "metadata": {
    "ExecuteTime": {
     "end_time": "2021-03-25T13:52:46.515704Z",
     "start_time": "2021-03-25T13:52:46.512500Z"
    }
   },
   "outputs": [],
   "source": [
    "b = torch.randn(2,3,5)"
   ]
  },
  {
   "cell_type": "code",
   "execution_count": 34,
   "metadata": {
    "ExecuteTime": {
     "end_time": "2021-03-25T13:53:53.669870Z",
     "start_time": "2021-03-25T13:53:53.664714Z"
    }
   },
   "outputs": [
    {
     "data": {
      "text/plain": [
       "torch.Size([3, 2, 5])"
      ]
     },
     "execution_count": 34,
     "metadata": {},
     "output_type": "execute_result"
    }
   ],
   "source": [
    "b.permute(1,0,2).shape"
   ]
  },
  {
   "cell_type": "code",
   "execution_count": null,
   "metadata": {},
   "outputs": [],
   "source": []
  }
 ],
 "metadata": {
  "kernelspec": {
   "display_name": "Python 3",
   "language": "python",
   "name": "python3"
  },
  "language_info": {
   "codemirror_mode": {
    "name": "ipython",
    "version": 3
   },
   "file_extension": ".py",
   "mimetype": "text/x-python",
   "name": "python",
   "nbconvert_exporter": "python",
   "pygments_lexer": "ipython3",
   "version": "3.7.6"
  },
  "toc": {
   "base_numbering": 1,
   "nav_menu": {},
   "number_sections": true,
   "sideBar": true,
   "skip_h1_title": false,
   "title_cell": "Table of Contents",
   "title_sidebar": "Contents",
   "toc_cell": false,
   "toc_position": {},
   "toc_section_display": true,
   "toc_window_display": false
  },
  "varInspector": {
   "cols": {
    "lenName": 16,
    "lenType": 16,
    "lenVar": 40
   },
   "kernels_config": {
    "python": {
     "delete_cmd_postfix": "",
     "delete_cmd_prefix": "del ",
     "library": "var_list.py",
     "varRefreshCmd": "print(var_dic_list())"
    },
    "r": {
     "delete_cmd_postfix": ") ",
     "delete_cmd_prefix": "rm(",
     "library": "var_list.r",
     "varRefreshCmd": "cat(var_dic_list()) "
    }
   },
   "types_to_exclude": [
    "module",
    "function",
    "builtin_function_or_method",
    "instance",
    "_Feature"
   ],
   "window_display": false
  }
 },
 "nbformat": 4,
 "nbformat_minor": 4
}
